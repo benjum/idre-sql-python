{
 "cells": [
  {
   "cell_type": "markdown",
   "metadata": {},
   "source": [
    "## Import the libraries we are going to use"
   ]
  },
  {
   "cell_type": "code",
   "execution_count": null,
   "metadata": {},
   "outputs": [],
   "source": [
    "import sqlite3\n",
    "import pandas as pd"
   ]
  },
  {
   "cell_type": "markdown",
   "metadata": {},
   "source": [
    "## Establish the connection object to the database"
   ]
  },
  {
   "cell_type": "code",
   "execution_count": null,
   "metadata": {},
   "outputs": [],
   "source": [
    "conn = sqlite3.connect('survey.db')"
   ]
  },
  {
   "cell_type": "markdown",
   "metadata": {},
   "source": [
    "## Establish the cursor object for executing queries"
   ]
  },
  {
   "cell_type": "code",
   "execution_count": null,
   "metadata": {},
   "outputs": [],
   "source": [
    "cur = conn.cursor()"
   ]
  },
  {
   "cell_type": "markdown",
   "metadata": {},
   "source": [
    "## This is a wrapper function to print the results of a query"
   ]
  },
  {
   "cell_type": "code",
   "execution_count": null,
   "metadata": {},
   "outputs": [],
   "source": [
    "def run_query_cursor(query):\n",
    "    cur.execute(query)\n",
    "    for i in cur.fetchall():\n",
    "        print(i)"
   ]
  },
  {
   "cell_type": "markdown",
   "metadata": {},
   "source": [
    "## This is also a wrapper... pandas does some nicer formatting"
   ]
  },
  {
   "cell_type": "code",
   "execution_count": null,
   "metadata": {},
   "outputs": [],
   "source": [
    "def run_query_pd(query):\n",
    "    return pd.read_sql_query(query,conn)"
   ]
  },
  {
   "cell_type": "markdown",
   "metadata": {},
   "source": [
    "## Here are the tables we have in the database"
   ]
  },
  {
   "cell_type": "code",
   "execution_count": null,
   "metadata": {},
   "outputs": [],
   "source": [
    "run_query_pd('select name from sqlite_master;')"
   ]
  },
  {
   "cell_type": "markdown",
   "metadata": {},
   "source": [
    "# a first look at the tables"
   ]
  },
  {
   "cell_type": "code",
   "execution_count": null,
   "metadata": {},
   "outputs": [],
   "source": [
    "query = '''\n",
    "SELECT *\n",
    "FROM person;\n",
    "'''\n",
    "run_query_cursor(query)"
   ]
  },
  {
   "cell_type": "code",
   "execution_count": null,
   "metadata": {},
   "outputs": [],
   "source": [
    "query = '''\n",
    "SELECT *\n",
    "FROM person;\n",
    "'''\n",
    "run_query_pd(query)"
   ]
  },
  {
   "cell_type": "code",
   "execution_count": null,
   "metadata": {},
   "outputs": [],
   "source": [
    "query = '''\n",
    "SELECT *\n",
    "FROM site;\n",
    "'''\n",
    "run_query_pd(query)"
   ]
  },
  {
   "cell_type": "code",
   "execution_count": null,
   "metadata": {},
   "outputs": [],
   "source": [
    "query = '''\n",
    "SELECT *\n",
    "FROM visited;\n",
    "'''\n",
    "run_query_pd(query)"
   ]
  },
  {
   "cell_type": "code",
   "execution_count": null,
   "metadata": {},
   "outputs": [],
   "source": [
    "query = '''\n",
    "SELECT *\n",
    "FROM survey;\n",
    "'''\n",
    "run_query_pd(query)"
   ]
  },
  {
   "cell_type": "markdown",
   "metadata": {},
   "source": [
    "# SELECT"
   ]
  },
  {
   "cell_type": "code",
   "execution_count": null,
   "metadata": {},
   "outputs": [],
   "source": [
    "query = '''\n",
    "SELECT family, personal\n",
    "FROM person;\n",
    "'''\n",
    "run_query_pd(query)"
   ]
  },
  {
   "cell_type": "code",
   "execution_count": null,
   "metadata": {},
   "outputs": [],
   "source": [
    "query = '''\n",
    "seLEcT FamiLY, PERSONal\n",
    "from perSON;\n",
    "'''\n",
    "run_query_pd(query)"
   ]
  },
  {
   "cell_type": "code",
   "execution_count": null,
   "metadata": {},
   "outputs": [],
   "source": [
    "query = '''\n",
    "SELECT personal, id, family, family, id, personal\n",
    "FROM person;\n",
    "'''\n",
    "run_query_pd(query)"
   ]
  },
  {
   "cell_type": "code",
   "execution_count": null,
   "metadata": {},
   "outputs": [],
   "source": [
    "# Write a query that selects only the 'name' from the 'Site' table\n",
    "query = '''\n",
    "\n",
    "'''\n",
    "run_query_pd(query)"
   ]
  },
  {
   "cell_type": "markdown",
   "metadata": {},
   "source": [
    "# dealing with duplicates and sorting"
   ]
  },
  {
   "cell_type": "code",
   "execution_count": null,
   "metadata": {},
   "outputs": [],
   "source": [
    "query = '''\n",
    "SELECT quant\n",
    "FROM survey;\n",
    "'''\n",
    "run_query_pd(query)"
   ]
  },
  {
   "cell_type": "code",
   "execution_count": null,
   "metadata": {},
   "outputs": [],
   "source": [
    "query = '''\n",
    "SELECT DISTINCT quant\n",
    "FROM survey;\n",
    "'''\n",
    "run_query_pd(query)"
   ]
  },
  {
   "cell_type": "code",
   "execution_count": null,
   "metadata": {},
   "outputs": [],
   "source": [
    "query = '''\n",
    "SELECT DISTINCT quant, taken\n",
    "FROM survey;\n",
    "'''\n",
    "run_query_pd(query)"
   ]
  },
  {
   "cell_type": "code",
   "execution_count": null,
   "metadata": {},
   "outputs": [],
   "source": [
    "query = '''\n",
    "SELECT DISTINCT quant, taken\n",
    "FROM survey\n",
    "ORDER BY quant;\n",
    "'''\n",
    "run_query_pd(query)"
   ]
  },
  {
   "cell_type": "code",
   "execution_count": null,
   "metadata": {},
   "outputs": [],
   "source": [
    "query = '''\n",
    "SELECT DISTINCT quant, taken\n",
    "FROM survey\n",
    "ORDER BY quant, taken DESC;\n",
    "'''\n",
    "run_query_pd(query)"
   ]
  },
  {
   "cell_type": "code",
   "execution_count": null,
   "metadata": {},
   "outputs": [],
   "source": [
    "query = '''\n",
    "SELECT *\n",
    "FROM person\n",
    "ORDER BY id;\n",
    "'''\n",
    "run_query_pd(query)"
   ]
  },
  {
   "cell_type": "code",
   "execution_count": null,
   "metadata": {},
   "outputs": [],
   "source": [
    "query = '''\n",
    "SELECT *\n",
    "FROM person\n",
    "ORDER BY id DESC;\n",
    "'''\n",
    "run_query_pd(query)"
   ]
  },
  {
   "cell_type": "code",
   "execution_count": null,
   "metadata": {},
   "outputs": [],
   "source": [
    "query = '''\n",
    "SELECT DISTINCT quant, person\n",
    "FROM survey\n",
    "ORDER BY quant ASC;\n",
    "'''\n",
    "run_query_pd(query)"
   ]
  },
  {
   "cell_type": "code",
   "execution_count": null,
   "metadata": {},
   "outputs": [],
   "source": [
    "query = '''\n",
    "SELECT DISTINCT quant, person\n",
    "FROM survey\n",
    "ORDER BY quant ASC, person;\n",
    "'''\n",
    "run_query_pd(query)"
   ]
  },
  {
   "cell_type": "code",
   "execution_count": null,
   "metadata": {},
   "outputs": [],
   "source": [
    "# Write a query that selects the distinct dates shown in the 'Visited' table\n",
    "query = '''\n",
    "\n",
    "'''\n",
    "run_query_pd(query)"
   ]
  },
  {
   "cell_type": "code",
   "execution_count": null,
   "metadata": {},
   "outputs": [],
   "source": [
    "# Write a query that shows the full names of scientists in the 'Person' table, ordered by family name\n",
    "query = '''\n",
    "\n",
    "'''\n",
    "run_query_pd(query)"
   ]
  },
  {
   "cell_type": "markdown",
   "metadata": {},
   "source": [
    "# Filtering\n",
    "Selecting records that match certain criteria"
   ]
  },
  {
   "cell_type": "code",
   "execution_count": null,
   "metadata": {},
   "outputs": [],
   "source": [
    "query = '''\n",
    "SELECT *\n",
    "FROM visited\n",
    "WHERE site = 'DR-1';\n",
    "'''\n",
    "run_query_pd(query)"
   ]
  },
  {
   "cell_type": "code",
   "execution_count": null,
   "metadata": {},
   "outputs": [],
   "source": [
    "query = '''\n",
    "SELECT id\n",
    "FROM visited\n",
    "WHERE site = 'DR-1';\n",
    "'''\n",
    "run_query_pd(query)"
   ]
  },
  {
   "cell_type": "code",
   "execution_count": null,
   "metadata": {},
   "outputs": [],
   "source": [
    "query = '''\n",
    "SELECT *\n",
    "FROM visited\n",
    "WHERE (site = 'DR-1') AND (dated < '1930-01-01');\n",
    "'''\n",
    "run_query_pd(query)"
   ]
  },
  {
   "cell_type": "code",
   "execution_count": null,
   "metadata": {},
   "outputs": [],
   "source": [
    "query = '''\n",
    "SELECT *\n",
    "FROM survey\n",
    "WHERE (person = 'lake') OR (person = 'roe');\n",
    "'''\n",
    "run_query_pd(query)"
   ]
  },
  {
   "cell_type": "code",
   "execution_count": null,
   "metadata": {},
   "outputs": [],
   "source": [
    "query = '''\n",
    "SELECT *\n",
    "FROM survey\n",
    "WHERE person IN ('lake','roe');\n",
    "'''\n",
    "run_query_pd(query)"
   ]
  },
  {
   "cell_type": "code",
   "execution_count": null,
   "metadata": {},
   "outputs": [],
   "source": [
    "query = '''\n",
    "SELECT *\n",
    "FROM survey\n",
    "WHERE quant = 'sal' AND person = 'lake' OR person = 'roe';\n",
    "'''\n",
    "run_query_pd(query)"
   ]
  },
  {
   "cell_type": "code",
   "execution_count": null,
   "metadata": {},
   "outputs": [],
   "source": [
    "query = '''\n",
    "SELECT *\n",
    "FROM survey\n",
    "WHERE quant = 'sal' AND (person = 'lake' OR person = 'roe');\n",
    "'''\n",
    "run_query_pd(query)"
   ]
  },
  {
   "cell_type": "code",
   "execution_count": null,
   "metadata": {},
   "outputs": [],
   "source": [
    "query = '''\n",
    "SELECT *\n",
    "FROM visited\n",
    "WHERE site LIKE 'DR%';\n",
    "'''\n",
    "run_query_pd(query)"
   ]
  },
  {
   "cell_type": "code",
   "execution_count": null,
   "metadata": {},
   "outputs": [],
   "source": [
    "query = '''\n",
    "SELECT DISTINCT person, quant\n",
    "FROM survey\n",
    "WHERE person = 'lake' OR person = 'roe';\n",
    "'''\n",
    "run_query_pd(query)"
   ]
  },
  {
   "cell_type": "code",
   "execution_count": null,
   "metadata": {},
   "outputs": [],
   "source": [
    "# Say we want all sites that lie within 48 degrees of the equator, that is, latitutide from -48 to 48\n",
    "# Fix this:\n",
    "query = '''\n",
    "SELECT *\n",
    "FROM site\n",
    "WHERE (lat > -48) OR (lat < 48);\n",
    "'''\n",
    "run_query_pd(query)"
   ]
  },
  {
   "cell_type": "code",
   "execution_count": null,
   "metadata": {},
   "outputs": [],
   "source": [
    "# Normalized salinity reading should be between 0.0 and 1.0.  \n",
    "# Select records from the 'Survey' table that are outside this range:\n",
    "query = '''\n",
    "\n",
    "'''\n",
    "run_query_pd(query)"
   ]
  },
  {
   "cell_type": "markdown",
   "metadata": {},
   "source": [
    "# calculating new values"
   ]
  },
  {
   "cell_type": "code",
   "execution_count": null,
   "metadata": {},
   "outputs": [],
   "source": [
    "# Perhaps 'roe' was misreporting salinity values\n",
    "query = '''\n",
    "SELECT *\n",
    "FROM survey\n",
    "WHERE quant = 'sal'\n",
    "ORDER BY person DESC;\n",
    "'''\n",
    "run_query_pd(query)"
   ]
  },
  {
   "cell_type": "code",
   "execution_count": null,
   "metadata": {},
   "outputs": [],
   "source": [
    "# We can divide by 100 but ....\n",
    "query = '''\n",
    "SELECT person, quant, reading/100.0\n",
    "FROM survey\n",
    "WHERE quant = 'sal'\n",
    "ORDER BY person DESC;\n",
    "'''\n",
    "run_query_pd(query)"
   ]
  },
  {
   "cell_type": "code",
   "execution_count": null,
   "metadata": {},
   "outputs": [],
   "source": [
    "# slight detour\n",
    "query = '''\n",
    "SELECT 1.05*reading\n",
    "FROM survey\n",
    "WHERE quant = 'rad';\n",
    "'''\n",
    "run_query_pd(query)"
   ]
  },
  {
   "cell_type": "code",
   "execution_count": null,
   "metadata": {},
   "outputs": [],
   "source": [
    "# slight detour\n",
    "query = '''\n",
    "SELECT 1.05*reading AS 'Radiation corrected by 5%'\n",
    "FROM survey\n",
    "WHERE quant = 'rad';\n",
    "'''\n",
    "run_query_pd(query)"
   ]
  },
  {
   "cell_type": "code",
   "execution_count": null,
   "metadata": {},
   "outputs": [],
   "source": [
    "# temperature in Fahrenheit\n",
    "query = '''\n",
    "SELECT reading\n",
    "FROM survey\n",
    "WHERE quant = 'temp';\n",
    "'''\n",
    "run_query_pd(query)"
   ]
  },
  {
   "cell_type": "code",
   "execution_count": null,
   "metadata": {},
   "outputs": [],
   "source": [
    "# temperature in Celsius\n",
    "query = '''\n",
    "SELECT round(5 * (reading - 32) / 9, 2) as 'Temp (C)'\n",
    "FROM survey\n",
    "WHERE quant = 'temp';\n",
    "'''\n",
    "run_query_pd(query)"
   ]
  },
  {
   "cell_type": "code",
   "execution_count": null,
   "metadata": {},
   "outputs": [],
   "source": [
    "# String concatenation\n",
    "query = '''\n",
    "SELECT personal || ' ' || family\n",
    "FROM person;\n",
    "'''\n",
    "run_query_pd(query)"
   ]
  },
  {
   "cell_type": "code",
   "execution_count": null,
   "metadata": {},
   "outputs": [],
   "source": [
    "# back to salinity\n",
    "# We can divide by 100 for 'roe' ....\n",
    "query = '''\n",
    "SELECT person, quant, reading/100.0\n",
    "FROM survey\n",
    "WHERE quant = 'sal' AND person = 'roe';\n",
    "'''\n",
    "run_query_pd(query)"
   ]
  },
  {
   "cell_type": "code",
   "execution_count": null,
   "metadata": {},
   "outputs": [],
   "source": [
    "# combine this now with the notion of unions\n",
    "query = '''\n",
    "SELECT *\n",
    "FROM person\n",
    "WHERE id = 'dyer'\n",
    "UNION\n",
    "SELECT *\n",
    "FROM person\n",
    "WHERE id = 'roe';\n",
    "'''\n",
    "run_query_pd(query)"
   ]
  },
  {
   "cell_type": "code",
   "execution_count": null,
   "metadata": {},
   "outputs": [],
   "source": [
    "# UNION vs UNION ALL\n",
    "query = '''\n",
    "SELECT *\n",
    "FROM person\n",
    "WHERE id = 'dyer'\n",
    "UNION ALL\n",
    "SELECT *\n",
    "FROM person;\n",
    "'''\n",
    "run_query_pd(query)"
   ]
  },
  {
   "cell_type": "code",
   "execution_count": null,
   "metadata": {},
   "outputs": [],
   "source": [
    "# Use UNION to show the salinity/100 for 'roe' and original salinity readings for everyone else\n",
    "query = '''\n",
    "\n",
    "'''\n",
    "run_query_pd(query)"
   ]
  },
  {
   "cell_type": "code",
   "execution_count": null,
   "metadata": {},
   "outputs": [],
   "source": [
    "# how we can execute a query from a python function\n",
    "def get_name(database_file, person_id):\n",
    "    query = \"SELECT personal || ' ' || family FROM Person WHERE id='\" + person_id + \"';\"    \n",
    "    \n",
    "    c = sqlite3.connect(database_file)\n",
    "    cursor = c.cursor()\n",
    "    cursor.execute(query)\n",
    "    results = cursor.fetchall()\n",
    "    cursor.close()\n",
    "    c.close()\n",
    "    \n",
    "    return results[0][0]\n",
    "\n",
    "print(get_name('survey.db','roe'))"
   ]
  },
  {
   "cell_type": "code",
   "execution_count": null,
   "metadata": {},
   "outputs": [],
   "source": [
    "# SQL INJECTION\n",
    "def get_name(database_file, person_id):\n",
    "    query = \"SELECT personal || ' ' || family FROM Person WHERE id='\" + person_id + \"';\"    \n",
    "    \n",
    "    c = sqlite3.connect(database_file)\n",
    "    cursor = c.cursor()\n",
    "    cursor.execute(query)\n",
    "    results = cursor.fetchall()\n",
    "    cursor.close()\n",
    "    c.close()\n",
    "    \n",
    "    return results[0][0]\n",
    "\n",
    "# UH-OH:\n",
    "# print(get_name('survey.db',\"roe'; DROP TABLE Survey; SELECT '\"))"
   ]
  },
  {
   "cell_type": "code",
   "execution_count": null,
   "metadata": {},
   "outputs": [],
   "source": [
    "# PREVENT SQL INJECTION\n",
    "def get_name(database_file, person_id):\n",
    "    query = \"SELECT personal || ' ' || family FROM Person WHERE id=?;\"   \n",
    "    \n",
    "    c = sqlite3.connect(database_file)\n",
    "    cursor = c.cursor()\n",
    "    cursor.execute(query, [person_id])\n",
    "    results = cursor.fetchall()\n",
    "    cursor.close()\n",
    "    c.close()\n",
    "    \n",
    "    return results[0][0]\n",
    "\n",
    "#print(get_name('survey.db','roe'))\n",
    "# UH-OH?\n",
    "print(get_name('survey.db',\"roe'; DROP TABLE Survey; SELECT '\"))"
   ]
  },
  {
   "cell_type": "code",
   "execution_count": null,
   "metadata": {},
   "outputs": [],
   "source": [
    "# Example table modification\n",
    "def add_name(database_file, new_person):\n",
    "    query = \"INSERT INTO Person (id, personal, family) VALUES (?, ?, ?);\"\n",
    "\n",
    "    connection = sqlite3.connect(database_file)\n",
    "    cursor = connection.cursor()\n",
    "    cursor.execute(query, list(new_person))\n",
    "    cursor.close()\n",
    "    connection.close()\n",
    "\n",
    "# Insert a new name\n",
    "add_name('survey.db', ('barrett', 'Mary', 'Barrett'))\n",
    "# Check it exists\n",
    "print(\"Full name for barrett:\", get_name('survey.db', 'barrett'))"
   ]
  },
  {
   "cell_type": "code",
   "execution_count": null,
   "metadata": {},
   "outputs": [],
   "source": [
    "# Example table modification\n",
    "# must do the commit!\n",
    "def add_name(database_file, new_person):\n",
    "    query = \"INSERT INTO Person (id, personal, family) VALUES (?, ?, ?);\"\n",
    "\n",
    "    connection = sqlite3.connect(database_file)\n",
    "    cursor = connection.cursor()\n",
    "    cursor.execute(query, list(new_person))\n",
    "    cursor.close()\n",
    "    connection.commit()\n",
    "    connection.close()\n",
    "\n",
    "# Insert a new name\n",
    "add_name('survey.db', ('barrett', 'Mary', 'Barrett'))\n",
    "# Check it exists\n",
    "print(\"Full name for barrett:\", get_name('survey.db', 'barrett'))"
   ]
  },
  {
   "cell_type": "code",
   "execution_count": null,
   "metadata": {},
   "outputs": [],
   "source": [
    "# The database that we are originally connected to reflects the change\n",
    "query = '''\n",
    "SELECT *\n",
    "FROM person;\n",
    "'''\n",
    "run_query_pd(query)"
   ]
  },
  {
   "cell_type": "code",
   "execution_count": null,
   "metadata": {},
   "outputs": [],
   "source": [
    "# A few details about NULL\n",
    "query = '''\n",
    "SELECT *\n",
    "FROM visited;\n",
    "'''\n",
    "run_query_pd(query)"
   ]
  },
  {
   "cell_type": "code",
   "execution_count": null,
   "metadata": {},
   "outputs": [],
   "source": [
    "query = '''\n",
    "SELECT *\n",
    "FROM visited\n",
    "WHERE dated = 'None';\n",
    "'''\n",
    "run_query_pd(query)"
   ]
  },
  {
   "cell_type": "code",
   "execution_count": null,
   "metadata": {},
   "outputs": [],
   "source": [
    "query = '''\n",
    "SELECT *\n",
    "FROM visited\n",
    "WHERE dated IS NULL;\n",
    "'''\n",
    "run_query_pd(query)"
   ]
  },
  {
   "cell_type": "code",
   "execution_count": null,
   "metadata": {},
   "outputs": [],
   "source": [
    "query = '''\n",
    "SELECT *\n",
    "FROM visited\n",
    "WHERE dated IS NOT NULL;\n",
    "'''\n",
    "run_query_pd(query)"
   ]
  },
  {
   "cell_type": "code",
   "execution_count": null,
   "metadata": {},
   "outputs": [],
   "source": [
    "query = '''\n",
    "SELECT *\n",
    "FROM survey\n",
    "WHERE quant = 'sal' AND person != 'lake';\n",
    "'''\n",
    "run_query_pd(query)"
   ]
  },
  {
   "cell_type": "code",
   "execution_count": null,
   "metadata": {},
   "outputs": [],
   "source": [
    "query = '''\n",
    "SELECT *\n",
    "FROM survey\n",
    "WHERE quant = 'sal' AND (person != 'lake' OR person IS NULL);\n",
    "'''\n",
    "run_query_pd(query)"
   ]
  },
  {
   "cell_type": "code",
   "execution_count": null,
   "metadata": {},
   "outputs": [],
   "source": [
    "# Write a query that sorts records in 'Visited' by date and omits unknown dates\n",
    "query = '''\n",
    "SELECT *\n",
    "FROM visited\n",
    "WHERE dated IS NOT NULL\n",
    "ORDER BY dated ASC;\n",
    "'''\n",
    "run_query_pd(query)"
   ]
  },
  {
   "cell_type": "code",
   "execution_count": null,
   "metadata": {},
   "outputs": [],
   "source": [
    "# What do you think this query will produce?\n",
    "query = '''\n",
    "SELECT *\n",
    "FROM visited\n",
    "WHERE dated IN ('1927-02-08', NULL);\n",
    "'''\n",
    "run_query_pd(query)"
   ]
  },
  {
   "cell_type": "code",
   "execution_count": null,
   "metadata": {},
   "outputs": [],
   "source": [
    "# What is a fix?\n",
    "query = '''\n",
    "\n",
    "'''\n",
    "run_query_pd(query)"
   ]
  },
  {
   "cell_type": "code",
   "execution_count": null,
   "metadata": {},
   "outputs": [],
   "source": []
  }
 ],
 "metadata": {
  "kernelspec": {
   "display_name": "Python 3",
   "language": "python",
   "name": "python3"
  },
  "language_info": {
   "codemirror_mode": {
    "name": "ipython",
    "version": 3
   },
   "file_extension": ".py",
   "mimetype": "text/x-python",
   "name": "python",
   "nbconvert_exporter": "python",
   "pygments_lexer": "ipython3",
   "version": "3.7.3"
  }
 },
 "nbformat": 4,
 "nbformat_minor": 2
}
